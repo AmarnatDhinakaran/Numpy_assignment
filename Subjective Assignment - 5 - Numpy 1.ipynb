{
 "cells": [
  {
   "cell_type": "markdown",
   "metadata": {},
   "source": [
    "# Assignment"
   ]
  },
  {
   "cell_type": "markdown",
   "metadata": {},
   "source": [
    "Q1. Write the NumPy program to create a 2d array with 6 on the border\n",
    "and 0 inside?\n",
    "\n",
    "    Expected OutputOriginal array-\n",
    "    [ [6 6 6 6 6]\n",
    "     [ 6 6 6 6 6]\n",
    "     [ 6 6 6 6 6 ]\n",
    "    [ 6 6 6 6 6 ]\n",
    "    [ 6 6 6 6 ] ].\n",
    "    6 on the border and 0 inside in the array-\n",
    "    [[ 6 6 6 6 6]\n",
    "    [ 6 0 0 0 6]\n",
    "    [ 6 0 0 0 6]\n",
    "    [ 6 0 0 0 6]\n",
    "    [ 6 6 6 6 6]]."
   ]
  },
  {
   "cell_type": "code",
   "execution_count": 3,
   "metadata": {},
   "outputs": [
    {
     "name": "stdout",
     "output_type": "stream",
     "text": [
      "[[6 6 6 6 6]\n",
      " [6 6 6 6 6]\n",
      " [6 6 6 6 6]\n",
      " [6 6 6 6 6]\n",
      " [6 6 6 6 6]]\n",
      "\n",
      "6 on the border and 0 inside in the array\n",
      "\n",
      "[[6 6 6 6 6]\n",
      " [6 0 0 0 6]\n",
      " [6 0 0 0 6]\n",
      " [6 0 0 0 6]\n",
      " [6 6 6 6 6]]\n"
     ]
    }
   ],
   "source": [
    "import numpy as np\n",
    "two_dia=6*np.ones((5,5),dtype=int)\n",
    "print(two_dia)\n",
    "two_dia[1:-1,1:-1] = 0\n",
    "print(\"\\n6 on the border and 0 inside in the array\\n\")\n",
    "print(two_dia)"
   ]
  },
  {
   "cell_type": "markdown",
   "metadata": {},
   "source": [
    "Q2. Write the NumPy program to create a 8x8 matrix and fill it with the\n",
    "checkerboard pattern?\n",
    "    \n",
    "    Checkerboard pattern-\n",
    "    [[3 9 3 9 3 9 3 9]\n",
    "    [9 3 9 3 9 3 9 3]\n",
    "    [3 9 3 9 3 9 3 9]\n",
    "    [9 3 9 3 9 3 9 3]\n",
    "    [3 9 3 9 3 9 3 9]\n",
    "    [9 3 9 3 9 3 9 3]\n",
    "    [3 9 3 9 3 9 3 9]\n",
    "    [9 3 9 3 9 3 9 3]]."
   ]
  },
  {
   "cell_type": "code",
   "execution_count": 33,
   "metadata": {},
   "outputs": [
    {
     "name": "stdout",
     "output_type": "stream",
     "text": [
      "[[3 9 3 9 3 9 3 9]\n",
      " [9 3 9 3 9 3 9 3]\n",
      " [3 9 3 9 3 9 3 9]\n",
      " [9 3 9 3 9 3 9 3]\n",
      " [3 9 3 9 3 9 3 9]\n",
      " [9 3 9 3 9 3 9 3]\n",
      " [3 9 3 9 3 9 3 9]\n",
      " [9 3 9 3 9 3 9 3]]\n"
     ]
    }
   ],
   "source": [
    "import numpy as np\n",
    "\n",
    "a=np.array(([3,9]*4+[9,3]*4)*4).reshape((8,8))\n",
    "print(a)"
   ]
  },
  {
   "cell_type": "markdown",
   "metadata": {},
   "source": [
    "Q3. Write the NumPy program to create an empty and a full array.\n",
    " \n",
    "     Expected Output-\n",
    "    [[4.45057637e-308 1.78021527e-306 8.45549797e-307 1.37962049e-306]\n",
    "    [1.11260619e-306 1.78010255e-306 9.79054228e-307 4.45057637e-308]\n",
    "    [8.45596650e-307 9.34602321e-307 4.94065646e-322 0.00000000e+000]]\n",
    "    [[6 6 6]\n",
    "    [6 6 6]\n",
    "    [6 6 6]]\n"
   ]
  },
  {
   "cell_type": "code",
   "execution_count": 3,
   "metadata": {},
   "outputs": [
    {
     "name": "stdout",
     "output_type": "stream",
     "text": [
      "[[6.23042070e-307 1.89146896e-307 1.37961302e-306 6.23053614e-307]\n",
      " [6.23053954e-307 9.34609790e-307 8.45593934e-307 9.34600963e-307]\n",
      " [1.86921143e-306 6.23061763e-307 8.45590539e-307 8.34445562e-308]]\n",
      "[[6 6 6]\n",
      " [6 6 6]\n",
      " [6 6 6]]\n"
     ]
    }
   ],
   "source": [
    "import numpy as np\n",
    "a=np.empty((3,4))\n",
    "print(a)\n",
    "b=np.full((3,3),6)\n",
    "print(b)"
   ]
  },
  {
   "cell_type": "markdown",
   "metadata": {},
   "source": [
    "Q4. Write the NumPy program to convert the values of Centigrade\n",
    "degrees into the Fahrenheit degrees and the centigrade values are\n",
    "stored in the NumPy array.\n",
    "    \n",
    "    Sample Array -[0, 12, 45.21 ,34, 99.91]\n",
    "    Expected OutputValues in Fahrenheit degrees-\n",
    "    [ 0. 12. 45.21 34. 99.91]\n",
    "    Values in Centigrade degrees-\n",
    "    [-17.77777778 -11.11111111 7.33888889 1.11111111 37.72777778]"
   ]
  },
  {
   "cell_type": "code",
   "execution_count": 4,
   "metadata": {},
   "outputs": [
    {
     "name": "stdout",
     "output_type": "stream",
     "text": [
      "Fahrenheit degrees : [ 0.   12.   45.21 34.   99.91]\n",
      "Centigrade degress : [-17.77777778 -11.11111111   7.33888889   1.11111111  37.72777778]\n"
     ]
    }
   ],
   "source": [
    "import numpy as np\n",
    "val=[0, 12, 45.21 ,34, 99.91]\n",
    "Fahrenheit=np.array(val)\n",
    "print(\"Fahrenheit degrees : {}\".format(Fahrenheit))\n",
    "print(\"Centigrade degress : {}\".format(5*Fahrenheit/9 - 5*32/9))"
   ]
  },
  {
   "cell_type": "markdown",
   "metadata": {},
   "source": [
    "Q5. Write the NumPy program to find the real and imaginary parts of an\n",
    "array of complex numbers?\n",
    "\n",
    "    Expected OutputOriginal array [ 1.00000000+0.j 0.70710678+0.70710678j]\n",
    "    Real part of the array-\n",
    "    [ 1. 0.70710678]\n",
    "    Imaginary part of the array-\n",
    "    [ 0. 0.70710678]"
   ]
  },
  {
   "cell_type": "code",
   "execution_count": 5,
   "metadata": {},
   "outputs": [
    {
     "name": "stdout",
     "output_type": "stream",
     "text": [
      "Original array:x  [1.09868411+0.45508986j]\n",
      "Real part of the array: [1.09868411]\n",
      "Imaginary part of the array: [0.45508986]\n"
     ]
    }
   ],
   "source": [
    "import numpy as np\n",
    "x = np.sqrt([1+1j])\n",
    "print(\"Original array:x \",x)\n",
    "print(\"Real part of the array: {}\".format(x.real))\n",
    "print(\"Imaginary part of the array: {}\".format(x.imag))\n"
   ]
  },
  {
   "cell_type": "markdown",
   "metadata": {},
   "source": [
    "Q6. Write the NumPy program to test whether each element of a 1-D\n",
    "array is also present in the second array?\n",
    "\n",
    "    Expected OutputArray1: [ 0 10 20 40 60]\n",
    "    Array2: [0, 40]\n",
    "    Compare each element of array1 and array2\n",
    "    [ True False False True False]\n"
   ]
  },
  {
   "cell_type": "code",
   "execution_count": 6,
   "metadata": {},
   "outputs": [
    {
     "name": "stdout",
     "output_type": "stream",
     "text": [
      "Array 1 : [20 27  6 25 18 10]\n",
      "Array 2 : [ 4 10 11]\n",
      "Compare each element of array1 and array2: [False False False False False  True]\n"
     ]
    }
   ],
   "source": [
    "import numpy as np\n",
    "array1=np.array([20,27,6,25,18,10])\n",
    "array2=np.array([4,10,11])\n",
    "print(\"Array 1 : {}\".format(array1))\n",
    "print(\"Array 2 : {}\".format(array2))\n",
    "print(\"Compare each element of array1 and array2:\",np.in1d(array1, array2))"
   ]
  },
  {
   "cell_type": "markdown",
   "metadata": {},
   "source": [
    "Q7. Write the NumPy program to find common values between two\n",
    "arrays?\n",
    "    \n",
    "    Expected OutputArray1: [ 0 10 20 40 60]\n",
    "    Array2: [10, 30, 40]\n",
    "    Common values between two arrays-\n",
    "    [10 40]"
   ]
  },
  {
   "cell_type": "code",
   "execution_count": 7,
   "metadata": {},
   "outputs": [
    {
     "name": "stdout",
     "output_type": "stream",
     "text": [
      "Array 1 : [20 27  6 25 18 10]\n",
      "Array 2 : [ 4 10 11]\n",
      "Unique elements of the above array: [10]\n"
     ]
    }
   ],
   "source": [
    "import numpy as np\n",
    "array1=np.array([20,27,6,25,18,10])\n",
    "array2=np.array([4,10,11])\n",
    "print(\"Array 1 : {}\".format(array1))\n",
    "print(\"Array 2 : {}\".format(array2))\n",
    "print(\"Unique elements of the above array:\",np.intersect1d(array1, array2))"
   ]
  },
  {
   "cell_type": "markdown",
   "metadata": {},
   "source": [
    "Q8. Write the NumPy program to get the unique elements of an array?\n",
    "\n",
    "    Expected OutputOriginal array-\n",
    "    [10 10 20 20 30 30]\n",
    "    Unique elements of the above array-\n",
    "    [10 20 30]\n",
    "    P a g e 14 | 44\n",
    "    Original array-\n",
    "    [[1 1]\n",
    "    [2 3]]\n",
    "    Unique elements of the above array-\n",
    "    [1 2 3]"
   ]
  },
  {
   "cell_type": "code",
   "execution_count": 8,
   "metadata": {},
   "outputs": [
    {
     "name": "stdout",
     "output_type": "stream",
     "text": [
      "Original array : [27 20  6 25  6 27 20 18 11  4 19 29]\n",
      "\n",
      "Unique elements of the above array [ 4  6 11 18 19 20 25 27 29] \n",
      "\n",
      "Original array : [[1 2 3]\n",
      " [3 2 1]\n",
      " [4 5 6]\n",
      " [6 7 8]]\n",
      "\n",
      "Unique elements of the above array :[1 2 3 4 5 6 7 8] \n"
     ]
    }
   ],
   "source": [
    "import numpy as n\n",
    "num=n.array([27,20,6,25,6,27,20,18,11,4,19,29])\n",
    "print(\"Original array : {}\".format(num))\n",
    "print(\"\\nUnique elements of the above array {} \".format(n.unique(num)))\n",
    "\n",
    "num1=n.array([[1,2,3],[3,2,1],[4,5,6],[6,7,8]])\n",
    "print(\"\\nOriginal array : {}\".format(num1))\n",
    "print(\"\\nUnique elements of the above array :{} \".format(n.unique(num1)))"
   ]
  },
  {
   "cell_type": "markdown",
   "metadata": {},
   "source": [
    "Q9. Write the NumPy program to find the set exclusive-or of two arrays.\n",
    "Set exclusive-or will return the sorted, unique values that are in\n",
    "only one (not both) of the input arrays?\n",
    "\n",
    "    Array1- [ 0 10 20 40 60 80]\n",
    "    Array2- [10, 30, 40, 50, 70]\n",
    "    Unique values that are in only one (not both) of the input arrays-\n",
    "    [ 0 20 30 50 60 70 80]"
   ]
  },
  {
   "cell_type": "code",
   "execution_count": 9,
   "metadata": {},
   "outputs": [
    {
     "name": "stdout",
     "output_type": "stream",
     "text": [
      "Array 1 : [20 27  6 25 18 10]\n",
      "Array 2 : [ 4 10 11]\n",
      "Unique values that are in only one (not both) of the input arrays: [ 4  6 11 18 20 25 27]\n"
     ]
    }
   ],
   "source": [
    "import numpy as np\n",
    "array1=np.array([20,27,6,25,18,10])\n",
    "array2=np.array([4,10,11])\n",
    "print(\"Array 1 : {}\".format(array1))\n",
    "print(\"Array 2 : {}\".format(array2))\n",
    "print(\"Unique values that are in only one (not both) of the input arrays:\",np.setxor1d(array1, array2))"
   ]
  },
  {
   "cell_type": "markdown",
   "metadata": {},
   "source": [
    "Q10. Write the NumPy program to test if all elements in an array\n",
    "evaluate to True ?\n",
    " \n",
    "Note: 0 evaluates to False in NumPy"
   ]
  },
  {
   "cell_type": "code",
   "execution_count": 10,
   "metadata": {},
   "outputs": [
    {
     "name": "stdout",
     "output_type": "stream",
     "text": [
      "Test if all elements in an array are True or False x : False \n",
      "Test if all elements in an array are True or False y : True \n"
     ]
    }
   ],
   "source": [
    "import numpy as n\n",
    "x=n.array([11, 1, 0.0, -27])\n",
    "y=n.array([1,True,27,20,6])\n",
    "print(\"Test if all elements in an array are True or False x : {} \".format(n.all(x)))\n",
    "print(\"Test if all elements in an array are True or False y : {} \".format(n.all(y)))\n"
   ]
  },
  {
   "cell_type": "markdown",
   "metadata": {},
   "source": [
    "Q11. Write the NumPy program to test whether any array element along\n",
    "the given axis evaluates to True?\n",
    " \n",
    "Note: 0 evaluates to False in NumPy"
   ]
  },
  {
   "cell_type": "code",
   "execution_count": 20,
   "metadata": {},
   "outputs": [
    {
     "name": "stdout",
     "output_type": "stream",
     "text": [
      "To test whether all elemrnts in the array array are False x : True \n",
      "To test whether all elemrnts in the array array are False y : True \n",
      "To test whether all elemrnts in the array array are False y : False \n"
     ]
    }
   ],
   "source": [
    "import numpy as n\n",
    "x=n.array([11, 1, 0.0, -27])\n",
    "y=n.array([1,True,27,20,6])\n",
    "z=n.array([0,0,False,False])\n",
    "print(\"To test whether all elemrnts in the array array are False x : {} \".format(n.any(x)))\n",
    "print(\"To test whether all elemrnts in the array array are False y : {} \".format(n.any(y)))\n",
    "print(\"To test whether all elemrnts in the array array are False y : {} \".format(n.any(z)))\n"
   ]
  },
  {
   "cell_type": "markdown",
   "metadata": {},
   "source": [
    "Q12. Write the NumPy program to construct an array by repeating?\n",
    "\n",
    "    Sample array- [1, 2, 3, 4]\n",
    "    Expected OutputOriginal array\n",
    "    [1, 2, 3, 4]\n",
    "    Repeating 2 times\n",
    "    [1 2 3 4 1 2 3 4]\n",
    "    Repeating 3 times\n",
    "    [1 2 3 4 1 2 3 4 1 2 3 4]"
   ]
  },
  {
   "cell_type": "code",
   "execution_count": 25,
   "metadata": {},
   "outputs": [
    {
     "name": "stdout",
     "output_type": "stream",
     "text": [
      "Repeating two times:[20 27  6 25 18 10 20 27  6 25 18 10]\n",
      "Repeating three times:[20 27  6 25 18 10 20 27  6 25 18 10 20 27  6 25 18 10]\n",
      "Repaeating two times using tile [20 27  6 25 18 10 20 27  6 25 18 10]\n",
      "Repaeating three times using tile [20 27  6 25 18 10 20 27  6 25 18 10 20 27  6 25 18 10]\n"
     ]
    }
   ],
   "source": [
    "import numpy as n\n",
    "x=n.array([20,27,6,25,18,10]*2)\n",
    "print(\"Repeating two times:{}\".format(x))\n",
    "y=n.array([20,27,6,25,18,10]*3)\n",
    "print(\"Repeating three times:{}\".format(y))\n",
    "\n",
    "#using tile\n",
    "a=n.array([20,27,6,25,18,10])\n",
    "print(\"Repaeating two times using tile\",np.tile(a, 2))\n",
    "print(\"Repaeating three times using tile\",np.tile(a, 3))"
   ]
  },
  {
   "cell_type": "markdown",
   "metadata": {},
   "source": [
    "Q13. Write the NumPy program to find the indices of the maximum and\n",
    "minimum values with the given axis of an array?\n",
    "\n",
    "    Original array- [1 2 3 4 5 6]\n",
    "    Maximum Values- 5\n",
    "    Minimum Values- 0"
   ]
  },
  {
   "cell_type": "code",
   "execution_count": 26,
   "metadata": {},
   "outputs": [
    {
     "name": "stdout",
     "output_type": "stream",
     "text": [
      "Original array: [20 27  6 25 18 10]\n",
      "Maximum Value index position:  1\n",
      "Minimum Value index position:  2\n"
     ]
    }
   ],
   "source": [
    "import numpy as n\n",
    "x=n.array([20,27,6,25,18,10])\n",
    "print(\"Original array:\",x)\n",
    "print(\"Maximum Value index position: \",n.argmax(x))\n",
    "print(\"Minimum Value index position: \",n.argmin(x))\n"
   ]
  },
  {
   "cell_type": "markdown",
   "metadata": {},
   "source": [
    "Q14. Write the NumPy program compare two arrays using numpy?\n",
    "\n",
    "    Array a- [1 2]\n",
    "    Array b- [4 5]\n",
    "    a > b\n",
    "    [False False]\n",
    "    a >= b\n",
    "    [False False]\n",
    "    a < b\n",
    "    [ True True]\n",
    "    a <= b\n",
    "    [ True True]\n"
   ]
  },
  {
   "cell_type": "code",
   "execution_count": 27,
   "metadata": {},
   "outputs": [
    {
     "name": "stdout",
     "output_type": "stream",
     "text": [
      "Array x : [20 27  6 25 18 10]\n",
      "Array y : [40 54 12 50 36 20]\n",
      "\n",
      "x>y [False False False False False False]\n",
      "\n",
      "x>=y [False False False False False False]\n",
      "\n",
      "x<y [ True  True  True  True  True  True]\n",
      "\n",
      "x<=y [ True  True  True  True  True  True]\n"
     ]
    }
   ],
   "source": [
    "import numpy as n\n",
    "x=n.array([20,27,6,25,18,10])\n",
    "y=n.array([20,27,6,25,18,10])*2\n",
    "print(\"Array x : {}\\nArray y : {}\".format(x,y))\n",
    "print(\"\\nx>y\",n.greater(x, y))\n",
    "print(\"\\nx>=y\",n.greater_equal(x, y))\n",
    "print(\"\\nx<y\",n.less(x, y))\n",
    "print(\"\\nx<=y\",n.less_equal(x, y))"
   ]
  },
  {
   "cell_type": "markdown",
   "metadata": {},
   "source": [
    "Q15. Write the NumPy program to sort an along the first, last axis of an\n",
    "array?\n",
    "\n",
    "    Sample array- [[2,5],[4,4]]\n",
    "    Expected OutputOriginal array:\n",
    "    [[4 6]\n",
    "    [2 1]]\n",
    "    Sort along the first axis:\n",
    "    [[2 1]\n",
    "    [4 6]]\n",
    "    Sort along the last axis-\n",
    "    [[1 2]\n",
    "    [4 6]]"
   ]
  },
  {
   "cell_type": "code",
   "execution_count": 28,
   "metadata": {},
   "outputs": [
    {
     "name": "stdout",
     "output_type": "stream",
     "text": [
      "Sort along the first axis:\n",
      " [[20 18  4]\n",
      " [25 27  6]]\n",
      "Sort along the last axis:\n",
      " [[ 6 20 27]\n",
      " [ 4 18 25]]\n"
     ]
    }
   ],
   "source": [
    "import numpy as n\n",
    "arr=n.array([[20,27,6],[25,18,4]])\n",
    "x=n.sort(arr,axis=0)\n",
    "print(\"Sort along the first axis:\\n\",x)\n",
    "y=n.sort(arr,axis=1)\n",
    "print(\"Sort along the last axis:\\n\",y)"
   ]
  },
  {
   "cell_type": "markdown",
   "metadata": {},
   "source": [
    "Q16. Write the NumPy program to sort pairs of first name and last name\n",
    "return their indices (first by last name, then by first name).\n",
    "\n",
    "    first_names - ( Betsey, Shelley, Lanell, Genesis, Margery )\n",
    "    last_names - ( Battle, Brien, Plotner, Stahl, Woolum )\n",
    "    Expected Output-\n",
    "    [1 3 2 4 0]"
   ]
  },
  {
   "cell_type": "code",
   "execution_count": 29,
   "metadata": {},
   "outputs": [
    {
     "name": "stdout",
     "output_type": "stream",
     "text": [
      "[0 2 1]\n"
     ]
    }
   ],
   "source": [
    "import numpy as n\n",
    "F_name=n.array(['Data','Science','Machine'])\n",
    "L_name=n.array([\"Deep\",'Learning','Learning'])\n",
    "Full_name=n.lexsort((F_name,L_name))\n",
    "print(Full_name)"
   ]
  },
  {
   "cell_type": "markdown",
   "metadata": {},
   "source": [
    "Q17. Write the NumPy program to get the values and indices of the\n",
    "elements that are bigger than 10 in the given array?\n",
    "\n",
    "    Original array-\n",
    "    [[ 0 10 20]\n",
    "    [20 30 40]]\n",
    "    Values bigger than 10 = [20 20 30 40]\n",
    "    Their indices are (array([0, 1, 1, 1]), array([2, 0, 1, 2]))"
   ]
  },
  {
   "cell_type": "code",
   "execution_count": 31,
   "metadata": {},
   "outputs": [
    {
     "name": "stdout",
     "output_type": "stream",
     "text": [
      "Original array: \n",
      "[[ 0 10 20]\n",
      " [20 30 40]]\n",
      "Values bigger than 10 = [20 20 30 40]\n",
      "Indicies :  (array([0, 1, 1, 1], dtype=int64), array([2, 0, 1, 2], dtype=int64))\n"
     ]
    }
   ],
   "source": [
    "import numpy as np\n",
    "x = np.array([[0, 10, 20], [20, 30, 40]])\n",
    "print(\"Original array: \")\n",
    "print(x)\n",
    "print(\"Values bigger than 10 =\", x[x>10])\n",
    "print(\"Indicies : \",np.nonzero(x > 10))"
   ]
  },
  {
   "cell_type": "markdown",
   "metadata": {},
   "source": [
    "Q18. Write the NumPy program to find the memory size of a NumPy\n",
    "array?\n",
    "\n",
    "    Expected Output128 bytes\n"
   ]
  },
  {
   "cell_type": "code",
   "execution_count": 32,
   "metadata": {},
   "outputs": [
    {
     "name": "stdout",
     "output_type": "stream",
     "text": [
      "128 bytes\n"
     ]
    }
   ],
   "source": [
    "import numpy as np\n",
    "n = np.zeros((4,4))\n",
    "print(\"{} bytes\".format(n.size * n.itemsize))"
   ]
  },
  {
   "cell_type": "markdown",
   "metadata": {},
   "source": [
    "## Great Job!"
   ]
  }
 ],
 "metadata": {
  "kernelspec": {
   "display_name": "Python 3",
   "language": "python",
   "name": "python3"
  },
  "language_info": {
   "codemirror_mode": {
    "name": "ipython",
    "version": 3
   },
   "file_extension": ".py",
   "mimetype": "text/x-python",
   "name": "python",
   "nbconvert_exporter": "python",
   "pygments_lexer": "ipython3",
   "version": "3.7.4"
  }
 },
 "nbformat": 4,
 "nbformat_minor": 2
}
